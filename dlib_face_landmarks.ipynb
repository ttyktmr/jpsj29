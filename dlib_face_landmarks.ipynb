{
  "nbformat": 4,
  "nbformat_minor": 0,
  "metadata": {
    "colab": {
      "provenance": []
    },
    "kernelspec": {
      "name": "python3",
      "display_name": "Python 3"
    },
    "language_info": {
      "name": "python"
    }
  },
  "cells": [
    {
      "cell_type": "code",
      "source": [
        "!pip install dlib"
      ],
      "metadata": {
        "id": "NmP8VS0ctd1G"
      },
      "execution_count": null,
      "outputs": []
    },
    {
      "cell_type": "code",
      "source": [
        "from google.colab import drive\n",
        "drive.mount('/content/drive')\n",
        "!wget -P \"/content/drive/MyDrive/download\" http://dlib.net/files/shape_predictor_68_face_landmarks.dat.bz2\n",
        "!bunzip2 -f /content/drive/MyDrive/download/shape_predictor_68_face_landmarks.dat.bz2"
      ],
      "metadata": {
        "id": "EsCsxhH_l3eH"
      },
      "execution_count": null,
      "outputs": []
    },
    {
      "cell_type": "code",
      "source": [
        "from google.colab import files\n",
        "from matplotlib.image import imread\n",
        "import matplotlib.pyplot as plt\n",
        "image_files = files.upload()\n",
        "image_file_name = list(image_files.keys())[0]\n",
        "image = imread(image_file_name)\n",
        "plt.imshow(image)\n",
        "plt.show()"
      ],
      "metadata": {
        "id": "8Isbj29Xr4ax",
        "collapsed": true
      },
      "execution_count": null,
      "outputs": []
    },
    {
      "cell_type": "code",
      "source": [
        "import dlib\n",
        "plt.imshow(image)\n",
        "detector = dlib.get_frontal_face_detector()\n",
        "predictor = dlib.shape_predictor('/content/drive/MyDrive/download/shape_predictor_68_face_landmarks.dat')\n",
        "d = detector(image,1)[0]\n",
        "landmarks = predictor(image,d)\n",
        "for i in range(0,68):\n",
        "  plt.plot(landmarks.part(i).x,landmarks.part(i).y,'w.')\n",
        "plt.show()"
      ],
      "metadata": {
        "id": "_RHrBy-NsCpR"
      },
      "execution_count": null,
      "outputs": []
    },
    {
      "cell_type": "code",
      "source": [
        "import csv\n",
        "with open('/content/drive/MyDrive/download/result.csv','w') as f:\n",
        "  writer = csv.writer(f)\n",
        "  for i in range(0,68):\n",
        "    writer.writerow([landmarks.part(i).x,landmarks.part(i).y])\n",
        "f.close()"
      ],
      "metadata": {
        "id": "0wJhVHI_dJci"
      },
      "execution_count": null,
      "outputs": []
    }
  ]
}